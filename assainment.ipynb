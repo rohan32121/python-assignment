{
 "cells": [
  {
   "cell_type": "code",
   "execution_count": 1,
   "id": "3135a08c-3236-4e97-9a76-adcdc65e5c99",
   "metadata": {},
   "outputs": [
    {
     "ename": "SyntaxError",
     "evalue": "invalid decimal literal (232244974.py, line 25)",
     "output_type": "error",
     "traceback": [
      "\u001b[0;36m  Cell \u001b[0;32mIn [1], line 25\u001b[0;36m\u001b[0m\n\u001b[0;31m    9.the python supports the creation of anonynous functions are runtime, using a construct called -------------\u001b[0m\n\u001b[0m     ^\u001b[0m\n\u001b[0;31mSyntaxError\u001b[0m\u001b[0;31m:\u001b[0m invalid decimal literal\n"
     ]
    }
   ],
   "source": [
    "1.Who developed python proggraming language?\n",
    "ans: Guido van Rossum\n",
    "\n",
    "2.Which type of programming does python support?\n",
    "ans: Python is a multi-paradigm programming language. Object-oriented programming and structured programming are fully supported, and many of their features support functional programming and aspect-oriented programming (including metaprogramming and metaobjects).\n",
    "\n",
    "3.Is python case sensetive when dealing with identifiers?\n",
    "ans: Yes, Python is a case-sensitive language, it treats uppercase and lowercase characters differently. This applies to identifiers too. You must avoid using the same name with different cases while naming identifiers\n",
    "\n",
    "4. What is the correct extension of the python file?\n",
    "ans: The Files with the . py extension contain the Python source code.\n",
    "\n",
    "5. Is python code compiled or interpreted?\n",
    "ans: Python is an interpreted language, which means the source code of a Python program is converted into bytecode that is then executed by the Python virtual machine. Python is different from major compiled languages, such as C and C + +, as Python code is not required to be built and linked like code for these languages.\n",
    "\n",
    "6.Name a few blocks of code used to difine in python language?\n",
    "ans: Indentation is used to define a block of code in python. Braces {} are used to define a block of code in most programming languages, like C, C++, and Java. But this indentation makes python unique among all programming languages.\n",
    "\n",
    "7.What do we use to define a block of code in python language?\n",
    "ans: Scaler\n",
    "\n",
    "8. Mention functions which can help us to find the verson of python that we are currenty working on?\n",
    "ans:  Explanation: The function sys. version can help us to find the version of python that we are currently working on\n",
    "\n",
    "9. The python supports the creation of anonynous functions are runtime, using a construct called -------------\n",
    "ans: It uses a construct called \"lambda\"\n",
    "\n",
    "10.What does pip stand for python?\n",
    "Ans: Alternatively, pip stands for \"preferred installer program\". Python 2.7. 9 and later (on the python2 series), and Python 3.4 and later include pip (pip3 for Python 3) by default\n",
    "\n",
    "11.Mention a few build in functions in python?\n",
    "ans: Python Built-in Functions\n",
    "\n",
    "    print( ) function.\n",
    "    type( ) function.\n",
    "    input( ) function.\n",
    "    abs( ) function.\n",
    "    pow( ) function.\n",
    "    dir( ) function.\n",
    "    sorted( ) function.\n",
    "    max( ) function.\n",
    "    \n",
    "12.What is the meimam possilble lenth of an identifier in python?\n",
    "ans: 79 characters\n",
    "\n",
    "13.what are the benifit of using python?\n",
    "ans:Top Reasons to Learn Python\n",
    "\n",
    "    Data science.\n",
    "    Scientific and mathematical computing.\n",
    "    Web development.\n",
    "    Finance and trading.\n",
    "    System automation and administration.\n",
    "    Computer graphics.\n",
    "    Basic game development.\n",
    "    Security and penetration testing.\n",
    "\n",
    "14.How is memory managed in python?\n",
    "ans Overview. Memory management in Python involves a private heap containing all Python objects and data structures. The management of this private heap is ensured internally by the Python memory manager.\n",
    "\n",
    "15.how to install python windows and set path variables?\n",
    "ans: The complete path of python.exe can be added by:\n",
    "\n",
    "    Right-clicking This PC and going to Properties.\n",
    "    Clicking on the Advanced system settings in the menu on the left.\n",
    "    Clicking on the Environment Variables button o​n the bottom right.\n",
    "    In the System variables section, selecting the Path variable and clicking on Edit.\n",
    "\n",
    "16.is indentaion required in python?\n",
    "ans: Indentation refers to the spaces at the beginning of a code line. Where in other programming languages the indentation in code is for readability only, the indentation in Python is very important. Python uses indentation to indicate a block of code."
   ]
  }
 ],
 "metadata": {
  "kernelspec": {
   "display_name": "Python 3 (ipykernel)",
   "language": "python",
   "name": "python3"
  },
  "language_info": {
   "codemirror_mode": {
    "name": "ipython",
    "version": 3
   },
   "file_extension": ".py",
   "mimetype": "text/x-python",
   "name": "python",
   "nbconvert_exporter": "python",
   "pygments_lexer": "ipython3",
   "version": "3.10.6"
  }
 },
 "nbformat": 4,
 "nbformat_minor": 5
}
